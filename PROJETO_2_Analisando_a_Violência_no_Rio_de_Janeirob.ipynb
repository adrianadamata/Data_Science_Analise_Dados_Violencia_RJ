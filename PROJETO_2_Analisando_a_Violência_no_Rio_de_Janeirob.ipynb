{
  "nbformat": 4,
  "nbformat_minor": 0,
  "metadata": {
    "colab": {
      "name": "PROJETO 2 - Analisando a Violência no Rio de Janeirob.ipynb",
      "provenance": [],
      "collapsed_sections": [],
      "toc_visible": true,
      "include_colab_link": true
    },
    "kernelspec": {
      "name": "python3",
      "display_name": "Python 3"
    }
  },
  "cells": [
    {
      "cell_type": "markdown",
      "metadata": {
        "id": "view-in-github",
        "colab_type": "text"
      },
      "source": [
        "<a href=\"https://colab.research.google.com/github/adrianadamata/Data_Science_Analise_Dados_Violencia_RJ/blob/master/PROJETO_2_Analisando_a_Viol%C3%AAncia_no_Rio_de_Janeirob.ipynb\" target=\"_parent\"><img src=\"https://colab.research.google.com/assets/colab-badge.svg\" alt=\"Open In Colab\"/></a>"
      ]
    },
    {
      "cell_type": "markdown",
      "metadata": {
        "id": "kLI0gJtzDGuQ",
        "colab_type": "text"
      },
      "source": [
        "<center><img src=\"http://sigmoidal.ai/wp-content/uploads/2019/08/logo_color.png\" height=\"40px\"></center>\n",
        "\n",
        "# Análise de Dados da Violência no Rio de Janeiro\n",
        "\n",
        "O histórico de violência no Estado do Rio de Janeiro destaca-se no cenário brasileiro. Sabe-se da existência de milícias e comandos paralelos. A fim de reunir informações sobre os índices de violência e tornar público, o Instituto de Segurança Pública (ISP) busca viabilizar a participação social em segurança pública no Rio de Janeiro. Ao fomentar pesquisas e análises desses dados, o ISP subsidia informações para que políticas públicas possam ser adotadas de forma mais eficiente.\n",
        "Através dos dados disponilizados pelo ISP foi possível realizar um estudo sobre a violência no Estado do RJ."
      ]
    },
    {
      "cell_type": "markdown",
      "metadata": {
        "id": "0zxQHhIUDF_2",
        "colab_type": "text"
      },
      "source": [
        "## Obtenção dos Dados\n",
        "\n",
        "Os dados foram pré-processados. Site oficial, do Governo do Estado do Rio de Janeiro: http://www.ispdados.rj.gov.br/estatistica.html"
      ]
    },
    {
      "cell_type": "markdown",
      "metadata": {
        "id": "7vh4at0l90nr",
        "colab_type": "text"
      },
      "source": [
        "### Importando os dados\n"
      ]
    },
    {
      "cell_type": "code",
      "metadata": {
        "id": "CYLNme_OCX_R",
        "colab_type": "code",
        "colab": {}
      },
      "source": [
        "import pandas as pd\n",
        "df = pd.read_csv(\"https://raw.githubusercontent.com/carlosfab/curso_data_science_na_pratica/master/modulo_02/violencia_rio.csv\")\n",
        "#  * Este arquivo `csv` foi pré-processado. Site oficial, do Governo do Estado do Rio de Janeiro: http://www.ispdados.rj.gov.br/estatistica.html\n",
        "import matplotlib.pyplot as plt\n",
        "import numpy as np\n"
      ],
      "execution_count": 0,
      "outputs": []
    },
    {
      "cell_type": "markdown",
      "metadata": {
        "colab_type": "text",
        "id": "Y5cY8SoLUH8h"
      },
      "source": [
        "## Análise Inicial dos Dados\n",
        "\n",
        "A partir do dataframe já disponível, avaliaremos as variáveis:\n",
        "\n",
        "**Dicionário de variáveis**:\n",
        "* `vano` - ano das ocorrências registradas;\n",
        "* `mes ` - mês das ocorrências registradas;\n",
        "\n",
        "**As colunas a seguir descrevem a quantidade de cada crime registrado naquele mês. Os crimes estão descritos a seguir:**\n",
        "* `hom_doloso` -  homicídio doloso;\n",
        "* `lesao_corp_morte` - lesão corporal seguida de morte;\n",
        "* `latrocinio` \n",
        "* `hom_por_interv_policial` - homicídio por intervenção policial;\n",
        "* `tentat_hom` - tentativa de homicídio;\n",
        "* `lesao_corp_dolosa` - lesão corporal dolosa;\n",
        "* `estupro`\n",
        "* `hom_culposo` - homicídio culposo;\n",
        "* `lesao_corp_culposa` - lesão corporal culposa;\n",
        "* `roubo_comercio `- roubo a comércio;\n",
        "* `roubo_residencia` - roubo a residência;\n",
        "* `roubo_veiculo` - roubo de veículo;\n",
        "* `roubo_carga` - roubo de carga;\n",
        "* `roubo_transeunte` - roubo a transeunte;\n",
        "* `roubo_em_coletivo` - roubo em coletivo;\n",
        "* `roubo_banco` - roubo a banco;\n",
        "* `roubo_cx_eletronico` - roubo a caixa eletrônico;\n",
        "* `roubo_celular` - roubo de celular;\n",
        "* `roubo_conducao_saque` - roubo com condução da vítima para saque;\n",
        "* `roubo_apos_saque` - roubo após saque;\n",
        "* `roubo_bicicleta` - roubo de bicicleta;\n",
        "* `outros_roubos`\n",
        "* **`total_roubos`**\n",
        "* `furto_veiculos` - furto de veículos;\n",
        "* `furto_transeunte` - furto a transeunte;\n",
        "* `furto_coletivo` - furto coletivo;\n",
        "* `furto_celular` - furto de celular;\n",
        "* `furto_bicicleta` - furto de bicicleta;\n",
        "* `outros_furtos`\n",
        "* **`total_furtos`**\n",
        "* `sequestro`    \n",
        "* `extorsao` \n",
        "* `sequestro_relampago` \n",
        "* `estelionato` \n",
        "* `apreensao_drogas`\n",
        "* `posse_drogas` \n",
        "* `trafico_drogas` \n",
        "* `apreensao_drogas_sem_autor`\n",
        "* `recuperacao_veiculos` \n",
        "* `apf` - Auto de Prisão em Flagrante;\n",
        "* `aaapai` - Auto de Apreensão de Adolescente por Prática de Ato Infracional;\n",
        "* `cmp` - Cumprimento de Mandado de Prisão;\n",
        "* `cmba` - Cumprimento de Mandado de Busca e Apreensão;\n",
        "* `ameaca`\n",
        "* `pessoas_desaparecidas` \n",
        "* `encontro_cadaver` \n",
        "* `encontro_ossada`\n",
        "* `pol_militares_mortos_serv` - policiais militares mortos em serviço;\n",
        "* `pol_civis_mortos_serv` - policiais civis mortos em serviço;\n",
        "* **`indicador_letalidade`** \n",
        "* **`indicador_roubo_rua`** \n",
        "* **`indicador_roubo_veic`**\n",
        "* **`registro_ocorrencias`** \n",
        "* **`fase`**"
      ]
    },
    {
      "cell_type": "code",
      "metadata": {
        "id": "K85x7Xg1yIUr",
        "colab_type": "code",
        "outputId": "a0414122-9e85-43af-8914-02c38b573b8e",
        "colab": {
          "base_uri": "https://localhost:8080/",
          "height": 34
        }
      },
      "source": [
        "# Agora que já sabemos o que cada variável representa no dataset, vamos analisar as características do dataframe gerado no início do projeto. (df)\n",
        "\n",
        "# A primeira característica que vamos analisar é o tamanho do dataframe (shape)\n",
        "df.shape"
      ],
      "execution_count": 2,
      "outputs": [
        {
          "output_type": "execute_result",
          "data": {
            "text/plain": [
              "(344, 56)"
            ]
          },
          "metadata": {
            "tags": []
          },
          "execution_count": 2
        }
      ]
    },
    {
      "cell_type": "markdown",
      "metadata": {
        "id": "qof5Omf0zmL9",
        "colab_type": "text"
      },
      "source": [
        "Podemos observar que são 344 entradas de períodos em que foram coletados os números dos registros de cada variável. As variáveis analisadas são as 56 colunas do dataframe."
      ]
    },
    {
      "cell_type": "code",
      "metadata": {
        "id": "3m5rskU2y9nd",
        "colab_type": "code",
        "outputId": "d5526e27-78cf-4744-8cf8-b8e2f506fa7f",
        "colab": {
          "base_uri": "https://localhost:8080/",
          "height": 306
        }
      },
      "source": [
        "# As colunas do dataframe são as variáveis analisadas acima, com seus respectivos nomes:\n",
        "df.columns"
      ],
      "execution_count": 3,
      "outputs": [
        {
          "output_type": "execute_result",
          "data": {
            "text/plain": [
              "Index(['vano', 'mes', 'hom_doloso', 'lesao_corp_morte', 'latrocinio',\n",
              "       'hom_por_interv_policial', 'tentat_hom', 'lesao_corp_dolosa', 'estupro',\n",
              "       'hom_culposo', 'lesao_corp_culposa', 'roubo_comercio',\n",
              "       'roubo_residencia', 'roubo_veiculo', 'roubo_carga', 'roubo_transeunte',\n",
              "       'roubo_em_coletivo', 'roubo_banco', 'roubo_cx_eletronico',\n",
              "       'roubo_celular', 'roubo_conducao_saque', 'roubo_apos_saque',\n",
              "       'roubo_bicicleta', 'outros_roubos', 'total_roubos', 'furto_veiculos',\n",
              "       'furto_transeunte', 'furto_coletivo', 'furto_celular',\n",
              "       'furto_bicicleta', 'outros_furtos', 'total_furtos', 'sequestro',\n",
              "       'extorsao', 'sequestro_relampago', 'estelionato', 'apreensao_drogas',\n",
              "       'posse_drogas', 'trafico_drogas', 'apreensao_drogas_sem_autor',\n",
              "       'recuperacao_veiculos', 'apf', 'aaapai', 'cmp', 'cmba', 'ameaca',\n",
              "       'pessoas_desaparecidas', 'encontro_cadaver', 'encontro_ossada',\n",
              "       'pol_militares_mortos_serv', 'pol_civis_mortos_serv',\n",
              "       'indicador_letalidade', 'indicador_roubo_rua', 'indicador_roubo_veic',\n",
              "       'registro_ocorrencias', 'fase'],\n",
              "      dtype='object')"
            ]
          },
          "metadata": {
            "tags": []
          },
          "execution_count": 3
        }
      ]
    },
    {
      "cell_type": "markdown",
      "metadata": {
        "id": "WMI7eqab0BUO",
        "colab_type": "text"
      },
      "source": [
        "Pode-se verificar o significado de cada variável no dicionário de variáveis, no início do Projeto."
      ]
    },
    {
      "cell_type": "code",
      "metadata": {
        "id": "Z-yJqNSu0PeZ",
        "colab_type": "code",
        "outputId": "5bacb86b-7aab-4dd3-8f1e-8021148a611a",
        "colab": {
          "base_uri": "https://localhost:8080/",
          "height": 986
        }
      },
      "source": [
        "# Os tipos das variáveis são: inteiro (int) e real (float)\n",
        "df.dtypes"
      ],
      "execution_count": 4,
      "outputs": [
        {
          "output_type": "execute_result",
          "data": {
            "text/plain": [
              "vano                            int64\n",
              "mes                             int64\n",
              "hom_doloso                      int64\n",
              "lesao_corp_morte              float64\n",
              "latrocinio                      int64\n",
              "hom_por_interv_policial       float64\n",
              "tentat_hom                      int64\n",
              "lesao_corp_dolosa               int64\n",
              "estupro                       float64\n",
              "hom_culposo                   float64\n",
              "lesao_corp_culposa            float64\n",
              "roubo_comercio                  int64\n",
              "roubo_residencia                int64\n",
              "roubo_veiculo                   int64\n",
              "roubo_carga                     int64\n",
              "roubo_transeunte                int64\n",
              "roubo_em_coletivo               int64\n",
              "roubo_banco                     int64\n",
              "roubo_cx_eletronico           float64\n",
              "roubo_celular                 float64\n",
              "roubo_conducao_saque          float64\n",
              "roubo_apos_saque              float64\n",
              "roubo_bicicleta               float64\n",
              "outros_roubos                   int64\n",
              "total_roubos                    int64\n",
              "furto_veiculos                  int64\n",
              "furto_transeunte                int64\n",
              "furto_coletivo                float64\n",
              "furto_celular                 float64\n",
              "furto_bicicleta               float64\n",
              "outros_furtos                   int64\n",
              "total_furtos                    int64\n",
              "sequestro                     float64\n",
              "extorsao                      float64\n",
              "sequestro_relampago           float64\n",
              "estelionato                   float64\n",
              "apreensao_drogas                int64\n",
              "posse_drogas                  float64\n",
              "trafico_drogas                float64\n",
              "apreensao_drogas_sem_autor    float64\n",
              "recuperacao_veiculos            int64\n",
              "apf                           float64\n",
              "aaapai                        float64\n",
              "cmp                           float64\n",
              "cmba                          float64\n",
              "ameaca                        float64\n",
              "pessoas_desaparecidas         float64\n",
              "encontro_cadaver                int64\n",
              "encontro_ossada               float64\n",
              "pol_militares_mortos_serv     float64\n",
              "pol_civis_mortos_serv         float64\n",
              "indicador_letalidade            int64\n",
              "indicador_roubo_rua             int64\n",
              "indicador_roubo_veic            int64\n",
              "registro_ocorrencias          float64\n",
              "fase                            int64\n",
              "dtype: object"
            ]
          },
          "metadata": {
            "tags": []
          },
          "execution_count": 4
        }
      ]
    },
    {
      "cell_type": "markdown",
      "metadata": {
        "id": "9I0DcMzc0s_U",
        "colab_type": "text"
      },
      "source": [
        "Verifica-se que as variáveis estudadas são numéricas, tipo inteiro e tipo float."
      ]
    },
    {
      "cell_type": "code",
      "metadata": {
        "id": "vXEADnrv3WRx",
        "colab_type": "code",
        "outputId": "d51d5851-2caf-4ef0-f083-dd7d1b495f9d",
        "colab": {
          "base_uri": "https://localhost:8080/",
          "height": 224
        }
      },
      "source": [
        "# visualizando as 5 primeiras linhas do dataframe:\n",
        "df.head()"
      ],
      "execution_count": 5,
      "outputs": [
        {
          "output_type": "execute_result",
          "data": {
            "text/html": [
              "<div>\n",
              "<style scoped>\n",
              "    .dataframe tbody tr th:only-of-type {\n",
              "        vertical-align: middle;\n",
              "    }\n",
              "\n",
              "    .dataframe tbody tr th {\n",
              "        vertical-align: top;\n",
              "    }\n",
              "\n",
              "    .dataframe thead th {\n",
              "        text-align: right;\n",
              "    }\n",
              "</style>\n",
              "<table border=\"1\" class=\"dataframe\">\n",
              "  <thead>\n",
              "    <tr style=\"text-align: right;\">\n",
              "      <th></th>\n",
              "      <th>vano</th>\n",
              "      <th>mes</th>\n",
              "      <th>hom_doloso</th>\n",
              "      <th>lesao_corp_morte</th>\n",
              "      <th>latrocinio</th>\n",
              "      <th>hom_por_interv_policial</th>\n",
              "      <th>tentat_hom</th>\n",
              "      <th>lesao_corp_dolosa</th>\n",
              "      <th>estupro</th>\n",
              "      <th>hom_culposo</th>\n",
              "      <th>lesao_corp_culposa</th>\n",
              "      <th>roubo_comercio</th>\n",
              "      <th>roubo_residencia</th>\n",
              "      <th>roubo_veiculo</th>\n",
              "      <th>roubo_carga</th>\n",
              "      <th>roubo_transeunte</th>\n",
              "      <th>roubo_em_coletivo</th>\n",
              "      <th>roubo_banco</th>\n",
              "      <th>roubo_cx_eletronico</th>\n",
              "      <th>roubo_celular</th>\n",
              "      <th>roubo_conducao_saque</th>\n",
              "      <th>roubo_apos_saque</th>\n",
              "      <th>roubo_bicicleta</th>\n",
              "      <th>outros_roubos</th>\n",
              "      <th>total_roubos</th>\n",
              "      <th>furto_veiculos</th>\n",
              "      <th>furto_transeunte</th>\n",
              "      <th>furto_coletivo</th>\n",
              "      <th>furto_celular</th>\n",
              "      <th>furto_bicicleta</th>\n",
              "      <th>outros_furtos</th>\n",
              "      <th>total_furtos</th>\n",
              "      <th>sequestro</th>\n",
              "      <th>extorsao</th>\n",
              "      <th>sequestro_relampago</th>\n",
              "      <th>estelionato</th>\n",
              "      <th>apreensao_drogas</th>\n",
              "      <th>posse_drogas</th>\n",
              "      <th>trafico_drogas</th>\n",
              "      <th>apreensao_drogas_sem_autor</th>\n",
              "      <th>recuperacao_veiculos</th>\n",
              "      <th>apf</th>\n",
              "      <th>aaapai</th>\n",
              "      <th>cmp</th>\n",
              "      <th>cmba</th>\n",
              "      <th>ameaca</th>\n",
              "      <th>pessoas_desaparecidas</th>\n",
              "      <th>encontro_cadaver</th>\n",
              "      <th>encontro_ossada</th>\n",
              "      <th>pol_militares_mortos_serv</th>\n",
              "      <th>pol_civis_mortos_serv</th>\n",
              "      <th>indicador_letalidade</th>\n",
              "      <th>indicador_roubo_rua</th>\n",
              "      <th>indicador_roubo_veic</th>\n",
              "      <th>registro_ocorrencias</th>\n",
              "      <th>fase</th>\n",
              "    </tr>\n",
              "  </thead>\n",
              "  <tbody>\n",
              "    <tr>\n",
              "      <th>0</th>\n",
              "      <td>1991</td>\n",
              "      <td>1</td>\n",
              "      <td>657</td>\n",
              "      <td>NaN</td>\n",
              "      <td>15</td>\n",
              "      <td>NaN</td>\n",
              "      <td>162</td>\n",
              "      <td>3051</td>\n",
              "      <td>NaN</td>\n",
              "      <td>NaN</td>\n",
              "      <td>NaN</td>\n",
              "      <td>350</td>\n",
              "      <td>188</td>\n",
              "      <td>1174</td>\n",
              "      <td>63</td>\n",
              "      <td>967</td>\n",
              "      <td>381</td>\n",
              "      <td>37</td>\n",
              "      <td>NaN</td>\n",
              "      <td>NaN</td>\n",
              "      <td>NaN</td>\n",
              "      <td>NaN</td>\n",
              "      <td>NaN</td>\n",
              "      <td>158</td>\n",
              "      <td>3318</td>\n",
              "      <td>2009</td>\n",
              "      <td>1147</td>\n",
              "      <td>NaN</td>\n",
              "      <td>NaN</td>\n",
              "      <td>NaN</td>\n",
              "      <td>3561</td>\n",
              "      <td>6717</td>\n",
              "      <td>NaN</td>\n",
              "      <td>NaN</td>\n",
              "      <td>NaN</td>\n",
              "      <td>NaN</td>\n",
              "      <td>133</td>\n",
              "      <td>NaN</td>\n",
              "      <td>NaN</td>\n",
              "      <td>NaN</td>\n",
              "      <td>872</td>\n",
              "      <td>NaN</td>\n",
              "      <td>NaN</td>\n",
              "      <td>NaN</td>\n",
              "      <td>NaN</td>\n",
              "      <td>NaN</td>\n",
              "      <td>NaN</td>\n",
              "      <td>217</td>\n",
              "      <td>NaN</td>\n",
              "      <td>NaN</td>\n",
              "      <td>NaN</td>\n",
              "      <td>672</td>\n",
              "      <td>1348</td>\n",
              "      <td>1174</td>\n",
              "      <td>NaN</td>\n",
              "      <td>3</td>\n",
              "    </tr>\n",
              "    <tr>\n",
              "      <th>1</th>\n",
              "      <td>1991</td>\n",
              "      <td>2</td>\n",
              "      <td>732</td>\n",
              "      <td>NaN</td>\n",
              "      <td>17</td>\n",
              "      <td>NaN</td>\n",
              "      <td>175</td>\n",
              "      <td>3421</td>\n",
              "      <td>NaN</td>\n",
              "      <td>NaN</td>\n",
              "      <td>NaN</td>\n",
              "      <td>357</td>\n",
              "      <td>171</td>\n",
              "      <td>1097</td>\n",
              "      <td>64</td>\n",
              "      <td>963</td>\n",
              "      <td>432</td>\n",
              "      <td>35</td>\n",
              "      <td>NaN</td>\n",
              "      <td>NaN</td>\n",
              "      <td>NaN</td>\n",
              "      <td>NaN</td>\n",
              "      <td>NaN</td>\n",
              "      <td>142</td>\n",
              "      <td>3261</td>\n",
              "      <td>1850</td>\n",
              "      <td>1066</td>\n",
              "      <td>NaN</td>\n",
              "      <td>NaN</td>\n",
              "      <td>NaN</td>\n",
              "      <td>3309</td>\n",
              "      <td>6225</td>\n",
              "      <td>NaN</td>\n",
              "      <td>NaN</td>\n",
              "      <td>NaN</td>\n",
              "      <td>NaN</td>\n",
              "      <td>127</td>\n",
              "      <td>NaN</td>\n",
              "      <td>NaN</td>\n",
              "      <td>NaN</td>\n",
              "      <td>751</td>\n",
              "      <td>NaN</td>\n",
              "      <td>NaN</td>\n",
              "      <td>NaN</td>\n",
              "      <td>NaN</td>\n",
              "      <td>NaN</td>\n",
              "      <td>NaN</td>\n",
              "      <td>209</td>\n",
              "      <td>NaN</td>\n",
              "      <td>NaN</td>\n",
              "      <td>NaN</td>\n",
              "      <td>749</td>\n",
              "      <td>1395</td>\n",
              "      <td>1097</td>\n",
              "      <td>NaN</td>\n",
              "      <td>3</td>\n",
              "    </tr>\n",
              "    <tr>\n",
              "      <th>2</th>\n",
              "      <td>1991</td>\n",
              "      <td>3</td>\n",
              "      <td>713</td>\n",
              "      <td>NaN</td>\n",
              "      <td>25</td>\n",
              "      <td>NaN</td>\n",
              "      <td>216</td>\n",
              "      <td>3613</td>\n",
              "      <td>NaN</td>\n",
              "      <td>NaN</td>\n",
              "      <td>NaN</td>\n",
              "      <td>443</td>\n",
              "      <td>191</td>\n",
              "      <td>1265</td>\n",
              "      <td>71</td>\n",
              "      <td>963</td>\n",
              "      <td>422</td>\n",
              "      <td>43</td>\n",
              "      <td>NaN</td>\n",
              "      <td>NaN</td>\n",
              "      <td>NaN</td>\n",
              "      <td>NaN</td>\n",
              "      <td>NaN</td>\n",
              "      <td>131</td>\n",
              "      <td>3529</td>\n",
              "      <td>2084</td>\n",
              "      <td>1062</td>\n",
              "      <td>NaN</td>\n",
              "      <td>NaN</td>\n",
              "      <td>NaN</td>\n",
              "      <td>3573</td>\n",
              "      <td>6719</td>\n",
              "      <td>NaN</td>\n",
              "      <td>NaN</td>\n",
              "      <td>NaN</td>\n",
              "      <td>NaN</td>\n",
              "      <td>80</td>\n",
              "      <td>NaN</td>\n",
              "      <td>NaN</td>\n",
              "      <td>NaN</td>\n",
              "      <td>789</td>\n",
              "      <td>NaN</td>\n",
              "      <td>NaN</td>\n",
              "      <td>NaN</td>\n",
              "      <td>NaN</td>\n",
              "      <td>NaN</td>\n",
              "      <td>NaN</td>\n",
              "      <td>188</td>\n",
              "      <td>NaN</td>\n",
              "      <td>NaN</td>\n",
              "      <td>NaN</td>\n",
              "      <td>738</td>\n",
              "      <td>1385</td>\n",
              "      <td>1265</td>\n",
              "      <td>NaN</td>\n",
              "      <td>3</td>\n",
              "    </tr>\n",
              "    <tr>\n",
              "      <th>3</th>\n",
              "      <td>1991</td>\n",
              "      <td>4</td>\n",
              "      <td>634</td>\n",
              "      <td>NaN</td>\n",
              "      <td>20</td>\n",
              "      <td>NaN</td>\n",
              "      <td>200</td>\n",
              "      <td>3211</td>\n",
              "      <td>NaN</td>\n",
              "      <td>NaN</td>\n",
              "      <td>NaN</td>\n",
              "      <td>425</td>\n",
              "      <td>199</td>\n",
              "      <td>1415</td>\n",
              "      <td>81</td>\n",
              "      <td>1186</td>\n",
              "      <td>354</td>\n",
              "      <td>36</td>\n",
              "      <td>NaN</td>\n",
              "      <td>NaN</td>\n",
              "      <td>NaN</td>\n",
              "      <td>NaN</td>\n",
              "      <td>NaN</td>\n",
              "      <td>112</td>\n",
              "      <td>3808</td>\n",
              "      <td>2085</td>\n",
              "      <td>1195</td>\n",
              "      <td>NaN</td>\n",
              "      <td>NaN</td>\n",
              "      <td>NaN</td>\n",
              "      <td>3290</td>\n",
              "      <td>6570</td>\n",
              "      <td>NaN</td>\n",
              "      <td>NaN</td>\n",
              "      <td>NaN</td>\n",
              "      <td>NaN</td>\n",
              "      <td>133</td>\n",
              "      <td>NaN</td>\n",
              "      <td>NaN</td>\n",
              "      <td>NaN</td>\n",
              "      <td>787</td>\n",
              "      <td>NaN</td>\n",
              "      <td>NaN</td>\n",
              "      <td>NaN</td>\n",
              "      <td>NaN</td>\n",
              "      <td>NaN</td>\n",
              "      <td>NaN</td>\n",
              "      <td>140</td>\n",
              "      <td>NaN</td>\n",
              "      <td>NaN</td>\n",
              "      <td>NaN</td>\n",
              "      <td>654</td>\n",
              "      <td>1540</td>\n",
              "      <td>1415</td>\n",
              "      <td>NaN</td>\n",
              "      <td>3</td>\n",
              "    </tr>\n",
              "    <tr>\n",
              "      <th>4</th>\n",
              "      <td>1991</td>\n",
              "      <td>5</td>\n",
              "      <td>650</td>\n",
              "      <td>NaN</td>\n",
              "      <td>20</td>\n",
              "      <td>NaN</td>\n",
              "      <td>146</td>\n",
              "      <td>3051</td>\n",
              "      <td>NaN</td>\n",
              "      <td>NaN</td>\n",
              "      <td>NaN</td>\n",
              "      <td>553</td>\n",
              "      <td>231</td>\n",
              "      <td>1449</td>\n",
              "      <td>82</td>\n",
              "      <td>931</td>\n",
              "      <td>335</td>\n",
              "      <td>27</td>\n",
              "      <td>NaN</td>\n",
              "      <td>NaN</td>\n",
              "      <td>NaN</td>\n",
              "      <td>NaN</td>\n",
              "      <td>NaN</td>\n",
              "      <td>147</td>\n",
              "      <td>3755</td>\n",
              "      <td>2185</td>\n",
              "      <td>723</td>\n",
              "      <td>NaN</td>\n",
              "      <td>NaN</td>\n",
              "      <td>NaN</td>\n",
              "      <td>3546</td>\n",
              "      <td>6454</td>\n",
              "      <td>NaN</td>\n",
              "      <td>NaN</td>\n",
              "      <td>NaN</td>\n",
              "      <td>NaN</td>\n",
              "      <td>163</td>\n",
              "      <td>NaN</td>\n",
              "      <td>NaN</td>\n",
              "      <td>NaN</td>\n",
              "      <td>845</td>\n",
              "      <td>NaN</td>\n",
              "      <td>NaN</td>\n",
              "      <td>NaN</td>\n",
              "      <td>NaN</td>\n",
              "      <td>NaN</td>\n",
              "      <td>NaN</td>\n",
              "      <td>78</td>\n",
              "      <td>NaN</td>\n",
              "      <td>NaN</td>\n",
              "      <td>NaN</td>\n",
              "      <td>670</td>\n",
              "      <td>1266</td>\n",
              "      <td>1449</td>\n",
              "      <td>NaN</td>\n",
              "      <td>3</td>\n",
              "    </tr>\n",
              "  </tbody>\n",
              "</table>\n",
              "</div>"
            ],
            "text/plain": [
              "   vano  mes  hom_doloso  ...  indicador_roubo_veic  registro_ocorrencias  fase\n",
              "0  1991    1         657  ...                  1174                   NaN     3\n",
              "1  1991    2         732  ...                  1097                   NaN     3\n",
              "2  1991    3         713  ...                  1265                   NaN     3\n",
              "3  1991    4         634  ...                  1415                   NaN     3\n",
              "4  1991    5         650  ...                  1449                   NaN     3\n",
              "\n",
              "[5 rows x 56 columns]"
            ]
          },
          "metadata": {
            "tags": []
          },
          "execution_count": 5
        }
      ]
    },
    {
      "cell_type": "code",
      "metadata": {
        "id": "dl-kaz5SEnNg",
        "colab_type": "code",
        "outputId": "03fc12be-6169-4612-f5fc-fcad1f179b8e",
        "colab": {
          "base_uri": "https://localhost:8080/",
          "height": 986
        }
      },
      "source": [
        "# Para identificar a porcentagem de valores ausentes de cada coluna: Na ordem decrescente\n",
        "(df.isnull().sum()/df.shape[0]).sort_values(ascending = False)"
      ],
      "execution_count": 6,
      "outputs": [
        {
          "output_type": "execute_result",
          "data": {
            "text/plain": [
              "roubo_bicicleta               0.802326\n",
              "furto_bicicleta               0.802326\n",
              "apreensao_drogas_sem_autor    0.523256\n",
              "posse_drogas                  0.523256\n",
              "apf                           0.523256\n",
              "aaapai                        0.523256\n",
              "cmp                           0.523256\n",
              "trafico_drogas                0.523256\n",
              "cmba                          0.523256\n",
              "sequestro_relampago           0.418605\n",
              "furto_coletivo                0.418605\n",
              "extorsao                      0.418605\n",
              "furto_celular                 0.418605\n",
              "roubo_apos_saque              0.418605\n",
              "roubo_conducao_saque          0.418605\n",
              "roubo_cx_eletronico           0.418605\n",
              "estupro                       0.418605\n",
              "estelionato                   0.418605\n",
              "pol_civis_mortos_serv         0.418605\n",
              "pol_militares_mortos_serv     0.418605\n",
              "pessoas_desaparecidas         0.383721\n",
              "encontro_ossada               0.383721\n",
              "roubo_celular                 0.313953\n",
              "lesao_corp_culposa            0.279070\n",
              "ameaca                        0.279070\n",
              "sequestro                     0.279070\n",
              "lesao_corp_morte              0.279070\n",
              "registro_ocorrencias          0.279070\n",
              "hom_por_interv_policial       0.244186\n",
              "hom_culposo                   0.244186\n",
              "tentat_hom                    0.000000\n",
              "roubo_comercio                0.000000\n",
              "roubo_residencia              0.000000\n",
              "latrocinio                    0.000000\n",
              "lesao_corp_dolosa             0.000000\n",
              "hom_doloso                    0.000000\n",
              "roubo_transeunte              0.000000\n",
              "mes                           0.000000\n",
              "roubo_veiculo                 0.000000\n",
              "roubo_carga                   0.000000\n",
              "fase                          0.000000\n",
              "roubo_em_coletivo             0.000000\n",
              "roubo_banco                   0.000000\n",
              "outros_roubos                 0.000000\n",
              "total_roubos                  0.000000\n",
              "furto_veiculos                0.000000\n",
              "furto_transeunte              0.000000\n",
              "outros_furtos                 0.000000\n",
              "total_furtos                  0.000000\n",
              "apreensao_drogas              0.000000\n",
              "recuperacao_veiculos          0.000000\n",
              "encontro_cadaver              0.000000\n",
              "indicador_letalidade          0.000000\n",
              "indicador_roubo_rua           0.000000\n",
              "indicador_roubo_veic          0.000000\n",
              "vano                          0.000000\n",
              "dtype: float64"
            ]
          },
          "metadata": {
            "tags": []
          },
          "execution_count": 6
        }
      ]
    },
    {
      "cell_type": "code",
      "metadata": {
        "id": "Uqu_ayCJRcUE",
        "colab_type": "code",
        "colab": {
          "base_uri": "https://localhost:8080/",
          "height": 221
        },
        "outputId": "a6753aeb-d81e-49b4-fd82-21e3ac03cb4a"
      },
      "source": [
        "# análise dos valores nulos em crimes de roubo de bicicleta\n",
        "df.roubo_bicicleta.isnull().tail(72)"
      ],
      "execution_count": 34,
      "outputs": [
        {
          "output_type": "execute_result",
          "data": {
            "text/plain": [
              "272     True\n",
              "273     True\n",
              "274     True\n",
              "275     True\n",
              "276    False\n",
              "       ...  \n",
              "339    False\n",
              "340    False\n",
              "341    False\n",
              "342    False\n",
              "343    False\n",
              "Name: roubo_bicicleta, Length: 72, dtype: bool"
            ]
          },
          "metadata": {
            "tags": []
          },
          "execution_count": 34
        }
      ]
    },
    {
      "cell_type": "markdown",
      "metadata": {
        "id": "cQFqtB1cbPI_",
        "colab_type": "text"
      },
      "source": [
        "Pela análise dos valores nulos na variável roubo de biciletas, estes valores estavam ausentes, pois a partir de 2014 os roubos de bicicletas passaram a ser tipificados como um crime específico. Até então, conforme dados de notícias, estes registro eram computados como assaltos a pedestres. "
      ]
    },
    {
      "cell_type": "code",
      "metadata": {
        "id": "eOlG1WlDfbtG",
        "colab_type": "code",
        "colab": {
          "base_uri": "https://localhost:8080/",
          "height": 986
        },
        "outputId": "773a13c9-e88e-471c-d204-252acb639a9d"
      },
      "source": [
        "#Análise de valores nulos em 2017\n",
        "df.query(\"vano == 2017\").isnull().sum()"
      ],
      "execution_count": 37,
      "outputs": [
        {
          "output_type": "execute_result",
          "data": {
            "text/plain": [
              "vano                          0\n",
              "mes                           0\n",
              "hom_doloso                    0\n",
              "lesao_corp_morte              0\n",
              "latrocinio                    0\n",
              "hom_por_interv_policial       0\n",
              "tentat_hom                    0\n",
              "lesao_corp_dolosa             0\n",
              "estupro                       0\n",
              "hom_culposo                   0\n",
              "lesao_corp_culposa            0\n",
              "roubo_comercio                0\n",
              "roubo_residencia              0\n",
              "roubo_veiculo                 0\n",
              "roubo_carga                   0\n",
              "roubo_transeunte              0\n",
              "roubo_em_coletivo             0\n",
              "roubo_banco                   0\n",
              "roubo_cx_eletronico           0\n",
              "roubo_celular                 0\n",
              "roubo_conducao_saque          0\n",
              "roubo_apos_saque              0\n",
              "roubo_bicicleta               0\n",
              "outros_roubos                 0\n",
              "total_roubos                  0\n",
              "furto_veiculos                0\n",
              "furto_transeunte              0\n",
              "furto_coletivo                0\n",
              "furto_celular                 0\n",
              "furto_bicicleta               0\n",
              "outros_furtos                 0\n",
              "total_furtos                  0\n",
              "sequestro                     0\n",
              "extorsao                      0\n",
              "sequestro_relampago           0\n",
              "estelionato                   0\n",
              "apreensao_drogas              0\n",
              "posse_drogas                  0\n",
              "trafico_drogas                0\n",
              "apreensao_drogas_sem_autor    0\n",
              "recuperacao_veiculos          0\n",
              "apf                           0\n",
              "aaapai                        0\n",
              "cmp                           0\n",
              "cmba                          0\n",
              "ameaca                        0\n",
              "pessoas_desaparecidas         0\n",
              "encontro_cadaver              0\n",
              "encontro_ossada               0\n",
              "pol_militares_mortos_serv     0\n",
              "pol_civis_mortos_serv         0\n",
              "indicador_letalidade          0\n",
              "indicador_roubo_rua           0\n",
              "indicador_roubo_veic          0\n",
              "registro_ocorrencias          0\n",
              "fase                          0\n",
              "dtype: int64"
            ]
          },
          "metadata": {
            "tags": []
          },
          "execution_count": 37
        }
      ]
    },
    {
      "cell_type": "markdown",
      "metadata": {
        "id": "TW-6iiEEiU6C",
        "colab_type": "text"
      },
      "source": [
        "Não há valores ausentes no ano de 2017. No entanto, sabe-se que em 2017 houve uma greve na polícia civil no início do ano que comprometeu o registro de ocorrências. Por isso, iremos retirar os dados do ano de 2017 para não comprometer a média mensal dos meses em que ocorreu a greve."
      ]
    },
    {
      "cell_type": "code",
      "metadata": {
        "id": "ogzV2NN5oFr5",
        "colab_type": "code",
        "colab": {}
      },
      "source": [
        "df_clean = df.copy()\n",
        "df_clean.drop(df_clean[df_clean.vano == 2017].index, axis=0, inplace=True)"
      ],
      "execution_count": 0,
      "outputs": []
    },
    {
      "cell_type": "markdown",
      "metadata": {
        "id": "blFC-D1FP1tJ",
        "colab_type": "text"
      },
      "source": [
        "## Análises Estatísticas da Violência no Rio de Janeiro\n",
        "\n",
        "Através dos dados analisados de janeiro de 1991 até agosto de 2019, com a quantidade de registros de ocorrências em cada mês, podemos agora imprimir o resumo estatístico do dataframe:"
      ]
    },
    {
      "cell_type": "code",
      "metadata": {
        "id": "-E44nHusP553",
        "colab_type": "code",
        "outputId": "5ac57e36-6468-4178-cc0f-e91ad5181bb6",
        "colab": {
          "base_uri": "https://localhost:8080/",
          "height": 317
        }
      },
      "source": [
        "# análise estatística do dataframe clean\n",
        "df_clean.describe()"
      ],
      "execution_count": 40,
      "outputs": [
        {
          "output_type": "execute_result",
          "data": {
            "text/html": [
              "<div>\n",
              "<style scoped>\n",
              "    .dataframe tbody tr th:only-of-type {\n",
              "        vertical-align: middle;\n",
              "    }\n",
              "\n",
              "    .dataframe tbody tr th {\n",
              "        vertical-align: top;\n",
              "    }\n",
              "\n",
              "    .dataframe thead th {\n",
              "        text-align: right;\n",
              "    }\n",
              "</style>\n",
              "<table border=\"1\" class=\"dataframe\">\n",
              "  <thead>\n",
              "    <tr style=\"text-align: right;\">\n",
              "      <th></th>\n",
              "      <th>vano</th>\n",
              "      <th>mes</th>\n",
              "      <th>hom_doloso</th>\n",
              "      <th>lesao_corp_morte</th>\n",
              "      <th>latrocinio</th>\n",
              "      <th>hom_por_interv_policial</th>\n",
              "      <th>tentat_hom</th>\n",
              "      <th>lesao_corp_dolosa</th>\n",
              "      <th>estupro</th>\n",
              "      <th>hom_culposo</th>\n",
              "      <th>lesao_corp_culposa</th>\n",
              "      <th>roubo_comercio</th>\n",
              "      <th>roubo_residencia</th>\n",
              "      <th>roubo_veiculo</th>\n",
              "      <th>roubo_carga</th>\n",
              "      <th>roubo_transeunte</th>\n",
              "      <th>roubo_em_coletivo</th>\n",
              "      <th>roubo_banco</th>\n",
              "      <th>roubo_cx_eletronico</th>\n",
              "      <th>roubo_celular</th>\n",
              "      <th>roubo_conducao_saque</th>\n",
              "      <th>roubo_apos_saque</th>\n",
              "      <th>roubo_bicicleta</th>\n",
              "      <th>outros_roubos</th>\n",
              "      <th>total_roubos</th>\n",
              "      <th>furto_veiculos</th>\n",
              "      <th>furto_transeunte</th>\n",
              "      <th>furto_coletivo</th>\n",
              "      <th>furto_celular</th>\n",
              "      <th>furto_bicicleta</th>\n",
              "      <th>outros_furtos</th>\n",
              "      <th>total_furtos</th>\n",
              "      <th>sequestro</th>\n",
              "      <th>extorsao</th>\n",
              "      <th>sequestro_relampago</th>\n",
              "      <th>estelionato</th>\n",
              "      <th>apreensao_drogas</th>\n",
              "      <th>posse_drogas</th>\n",
              "      <th>trafico_drogas</th>\n",
              "      <th>apreensao_drogas_sem_autor</th>\n",
              "      <th>recuperacao_veiculos</th>\n",
              "      <th>apf</th>\n",
              "      <th>aaapai</th>\n",
              "      <th>cmp</th>\n",
              "      <th>cmba</th>\n",
              "      <th>ameaca</th>\n",
              "      <th>pessoas_desaparecidas</th>\n",
              "      <th>encontro_cadaver</th>\n",
              "      <th>encontro_ossada</th>\n",
              "      <th>pol_militares_mortos_serv</th>\n",
              "      <th>pol_civis_mortos_serv</th>\n",
              "      <th>indicador_letalidade</th>\n",
              "      <th>indicador_roubo_rua</th>\n",
              "      <th>indicador_roubo_veic</th>\n",
              "      <th>registro_ocorrencias</th>\n",
              "      <th>fase</th>\n",
              "    </tr>\n",
              "  </thead>\n",
              "  <tbody>\n",
              "    <tr>\n",
              "      <th>count</th>\n",
              "      <td>332.000000</td>\n",
              "      <td>332.000000</td>\n",
              "      <td>332.000000</td>\n",
              "      <td>236.000000</td>\n",
              "      <td>332.000000</td>\n",
              "      <td>248.000000</td>\n",
              "      <td>332.000000</td>\n",
              "      <td>332.000000</td>\n",
              "      <td>188.000000</td>\n",
              "      <td>248.000000</td>\n",
              "      <td>236.000000</td>\n",
              "      <td>332.000000</td>\n",
              "      <td>332.000000</td>\n",
              "      <td>332.000000</td>\n",
              "      <td>332.000000</td>\n",
              "      <td>332.000000</td>\n",
              "      <td>332.000000</td>\n",
              "      <td>332.000000</td>\n",
              "      <td>188.000000</td>\n",
              "      <td>224.000000</td>\n",
              "      <td>188.000000</td>\n",
              "      <td>188.000000</td>\n",
              "      <td>56.000000</td>\n",
              "      <td>332.000000</td>\n",
              "      <td>332.000000</td>\n",
              "      <td>332.000000</td>\n",
              "      <td>332.000000</td>\n",
              "      <td>188.000000</td>\n",
              "      <td>188.000000</td>\n",
              "      <td>56.000000</td>\n",
              "      <td>332.000000</td>\n",
              "      <td>332.000000</td>\n",
              "      <td>236.000000</td>\n",
              "      <td>188.000000</td>\n",
              "      <td>188.000000</td>\n",
              "      <td>188.000000</td>\n",
              "      <td>332.000000</td>\n",
              "      <td>152.000000</td>\n",
              "      <td>152.000000</td>\n",
              "      <td>152.000000</td>\n",
              "      <td>332.000000</td>\n",
              "      <td>152.000000</td>\n",
              "      <td>152.000000</td>\n",
              "      <td>152.000000</td>\n",
              "      <td>152.000000</td>\n",
              "      <td>236.000000</td>\n",
              "      <td>200.00000</td>\n",
              "      <td>332.000000</td>\n",
              "      <td>200.000000</td>\n",
              "      <td>188.000000</td>\n",
              "      <td>188.000000</td>\n",
              "      <td>332.000000</td>\n",
              "      <td>332.000000</td>\n",
              "      <td>332.000000</td>\n",
              "      <td>236.000000</td>\n",
              "      <td>332.000000</td>\n",
              "    </tr>\n",
              "    <tr>\n",
              "      <th>mean</th>\n",
              "      <td>2004.397590</td>\n",
              "      <td>6.451807</td>\n",
              "      <td>506.689759</td>\n",
              "      <td>4.389831</td>\n",
              "      <td>15.521084</td>\n",
              "      <td>70.834677</td>\n",
              "      <td>311.695783</td>\n",
              "      <td>5508.939759</td>\n",
              "      <td>367.218085</td>\n",
              "      <td>213.866935</td>\n",
              "      <td>3470.326271</td>\n",
              "      <td>451.572289</td>\n",
              "      <td>134.313253</td>\n",
              "      <td>2373.451807</td>\n",
              "      <td>320.698795</td>\n",
              "      <td>3283.066265</td>\n",
              "      <td>636.819277</td>\n",
              "      <td>9.647590</td>\n",
              "      <td>3.457447</td>\n",
              "      <td>900.455357</td>\n",
              "      <td>11.744681</td>\n",
              "      <td>151.292553</td>\n",
              "      <td>10.517857</td>\n",
              "      <td>1161.647590</td>\n",
              "      <td>9074.807229</td>\n",
              "      <td>1687.888554</td>\n",
              "      <td>1516.102410</td>\n",
              "      <td>651.622340</td>\n",
              "      <td>1458.553191</td>\n",
              "      <td>117.196429</td>\n",
              "      <td>5953.981928</td>\n",
              "      <td>10372.659639</td>\n",
              "      <td>0.665254</td>\n",
              "      <td>134.021277</td>\n",
              "      <td>7.659574</td>\n",
              "      <td>2217.553191</td>\n",
              "      <td>1046.481928</td>\n",
              "      <td>607.453947</td>\n",
              "      <td>738.993421</td>\n",
              "      <td>187.875000</td>\n",
              "      <td>1722.951807</td>\n",
              "      <td>2283.269737</td>\n",
              "      <td>563.881579</td>\n",
              "      <td>1243.447368</td>\n",
              "      <td>78.631579</td>\n",
              "      <td>5595.279661</td>\n",
              "      <td>438.08500</td>\n",
              "      <td>67.521084</td>\n",
              "      <td>3.375000</td>\n",
              "      <td>2.053191</td>\n",
              "      <td>0.340426</td>\n",
              "      <td>578.243976</td>\n",
              "      <td>4527.421687</td>\n",
              "      <td>2373.451807</td>\n",
              "      <td>53348.919492</td>\n",
              "      <td>2.993976</td>\n",
              "    </tr>\n",
              "    <tr>\n",
              "      <th>std</th>\n",
              "      <td>8.101978</td>\n",
              "      <td>3.447592</td>\n",
              "      <td>114.987442</td>\n",
              "      <td>2.772307</td>\n",
              "      <td>5.841526</td>\n",
              "      <td>36.819519</td>\n",
              "      <td>124.766323</td>\n",
              "      <td>1528.223277</td>\n",
              "      <td>95.969471</td>\n",
              "      <td>54.878689</td>\n",
              "      <td>737.032890</td>\n",
              "      <td>118.277099</td>\n",
              "      <td>44.596866</td>\n",
              "      <td>693.249876</td>\n",
              "      <td>198.259206</td>\n",
              "      <td>2366.899950</td>\n",
              "      <td>271.657524</td>\n",
              "      <td>10.652683</td>\n",
              "      <td>2.598498</td>\n",
              "      <td>572.146660</td>\n",
              "      <td>6.352289</td>\n",
              "      <td>52.047947</td>\n",
              "      <td>8.072380</td>\n",
              "      <td>761.988632</td>\n",
              "      <td>4199.416412</td>\n",
              "      <td>291.437446</td>\n",
              "      <td>987.429744</td>\n",
              "      <td>273.657894</td>\n",
              "      <td>370.342091</td>\n",
              "      <td>83.905015</td>\n",
              "      <td>1970.075398</td>\n",
              "      <td>3726.880017</td>\n",
              "      <td>0.937527</td>\n",
              "      <td>43.891329</td>\n",
              "      <td>5.133622</td>\n",
              "      <td>777.078419</td>\n",
              "      <td>639.785077</td>\n",
              "      <td>253.841293</td>\n",
              "      <td>315.519240</td>\n",
              "      <td>36.694427</td>\n",
              "      <td>610.715907</td>\n",
              "      <td>660.228437</td>\n",
              "      <td>255.600188</td>\n",
              "      <td>361.003656</td>\n",
              "      <td>62.362716</td>\n",
              "      <td>1064.384196</td>\n",
              "      <td>64.73943</td>\n",
              "      <td>34.392828</td>\n",
              "      <td>2.215608</td>\n",
              "      <td>1.745074</td>\n",
              "      <td>0.638400</td>\n",
              "      <td>106.288998</td>\n",
              "      <td>3019.072078</td>\n",
              "      <td>693.249876</td>\n",
              "      <td>10864.277909</td>\n",
              "      <td>0.077498</td>\n",
              "    </tr>\n",
              "    <tr>\n",
              "      <th>min</th>\n",
              "      <td>1991.000000</td>\n",
              "      <td>1.000000</td>\n",
              "      <td>272.000000</td>\n",
              "      <td>0.000000</td>\n",
              "      <td>2.000000</td>\n",
              "      <td>10.000000</td>\n",
              "      <td>122.000000</td>\n",
              "      <td>2350.000000</td>\n",
              "      <td>188.000000</td>\n",
              "      <td>111.000000</td>\n",
              "      <td>1793.000000</td>\n",
              "      <td>243.000000</td>\n",
              "      <td>59.000000</td>\n",
              "      <td>1097.000000</td>\n",
              "      <td>59.000000</td>\n",
              "      <td>688.000000</td>\n",
              "      <td>281.000000</td>\n",
              "      <td>0.000000</td>\n",
              "      <td>0.000000</td>\n",
              "      <td>0.000000</td>\n",
              "      <td>1.000000</td>\n",
              "      <td>44.000000</td>\n",
              "      <td>0.000000</td>\n",
              "      <td>81.000000</td>\n",
              "      <td>3261.000000</td>\n",
              "      <td>1159.000000</td>\n",
              "      <td>322.000000</td>\n",
              "      <td>23.000000</td>\n",
              "      <td>484.000000</td>\n",
              "      <td>0.000000</td>\n",
              "      <td>2322.000000</td>\n",
              "      <td>4691.000000</td>\n",
              "      <td>0.000000</td>\n",
              "      <td>23.000000</td>\n",
              "      <td>0.000000</td>\n",
              "      <td>802.000000</td>\n",
              "      <td>80.000000</td>\n",
              "      <td>248.000000</td>\n",
              "      <td>262.000000</td>\n",
              "      <td>114.000000</td>\n",
              "      <td>729.000000</td>\n",
              "      <td>1173.000000</td>\n",
              "      <td>225.000000</td>\n",
              "      <td>628.000000</td>\n",
              "      <td>21.000000</td>\n",
              "      <td>2930.000000</td>\n",
              "      <td>312.00000</td>\n",
              "      <td>0.000000</td>\n",
              "      <td>0.000000</td>\n",
              "      <td>0.000000</td>\n",
              "      <td>0.000000</td>\n",
              "      <td>334.000000</td>\n",
              "      <td>1086.000000</td>\n",
              "      <td>1097.000000</td>\n",
              "      <td>30621.000000</td>\n",
              "      <td>2.000000</td>\n",
              "    </tr>\n",
              "    <tr>\n",
              "      <th>25%</th>\n",
              "      <td>1997.000000</td>\n",
              "      <td>3.000000</td>\n",
              "      <td>413.750000</td>\n",
              "      <td>2.000000</td>\n",
              "      <td>11.000000</td>\n",
              "      <td>41.000000</td>\n",
              "      <td>196.750000</td>\n",
              "      <td>4012.750000</td>\n",
              "      <td>280.750000</td>\n",
              "      <td>178.000000</td>\n",
              "      <td>3080.750000</td>\n",
              "      <td>364.500000</td>\n",
              "      <td>103.750000</td>\n",
              "      <td>1876.750000</td>\n",
              "      <td>197.500000</td>\n",
              "      <td>1047.250000</td>\n",
              "      <td>426.000000</td>\n",
              "      <td>2.000000</td>\n",
              "      <td>1.750000</td>\n",
              "      <td>536.500000</td>\n",
              "      <td>7.000000</td>\n",
              "      <td>120.000000</td>\n",
              "      <td>0.000000</td>\n",
              "      <td>803.250000</td>\n",
              "      <td>5000.000000</td>\n",
              "      <td>1456.000000</td>\n",
              "      <td>725.250000</td>\n",
              "      <td>501.000000</td>\n",
              "      <td>1301.250000</td>\n",
              "      <td>0.000000</td>\n",
              "      <td>3905.500000</td>\n",
              "      <td>6636.750000</td>\n",
              "      <td>0.000000</td>\n",
              "      <td>109.750000</td>\n",
              "      <td>4.000000</td>\n",
              "      <td>1623.250000</td>\n",
              "      <td>701.750000</td>\n",
              "      <td>355.750000</td>\n",
              "      <td>401.750000</td>\n",
              "      <td>160.750000</td>\n",
              "      <td>1255.500000</td>\n",
              "      <td>1650.250000</td>\n",
              "      <td>326.750000</td>\n",
              "      <td>947.500000</td>\n",
              "      <td>45.000000</td>\n",
              "      <td>4968.750000</td>\n",
              "      <td>391.50000</td>\n",
              "      <td>44.000000</td>\n",
              "      <td>2.000000</td>\n",
              "      <td>1.000000</td>\n",
              "      <td>0.000000</td>\n",
              "      <td>500.000000</td>\n",
              "      <td>1535.250000</td>\n",
              "      <td>1876.750000</td>\n",
              "      <td>45168.500000</td>\n",
              "      <td>3.000000</td>\n",
              "    </tr>\n",
              "    <tr>\n",
              "      <th>50%</th>\n",
              "      <td>2004.000000</td>\n",
              "      <td>6.000000</td>\n",
              "      <td>513.000000</td>\n",
              "      <td>4.000000</td>\n",
              "      <td>15.000000</td>\n",
              "      <td>67.500000</td>\n",
              "      <td>315.000000</td>\n",
              "      <td>5851.500000</td>\n",
              "      <td>380.000000</td>\n",
              "      <td>205.000000</td>\n",
              "      <td>3399.500000</td>\n",
              "      <td>431.500000</td>\n",
              "      <td>126.000000</td>\n",
              "      <td>2292.500000</td>\n",
              "      <td>278.500000</td>\n",
              "      <td>2274.500000</td>\n",
              "      <td>586.000000</td>\n",
              "      <td>5.000000</td>\n",
              "      <td>3.000000</td>\n",
              "      <td>701.000000</td>\n",
              "      <td>11.000000</td>\n",
              "      <td>153.000000</td>\n",
              "      <td>13.000000</td>\n",
              "      <td>1140.500000</td>\n",
              "      <td>9123.000000</td>\n",
              "      <td>1669.000000</td>\n",
              "      <td>1029.500000</td>\n",
              "      <td>726.500000</td>\n",
              "      <td>1519.000000</td>\n",
              "      <td>155.000000</td>\n",
              "      <td>6526.500000</td>\n",
              "      <td>10335.000000</td>\n",
              "      <td>0.000000</td>\n",
              "      <td>133.000000</td>\n",
              "      <td>7.000000</td>\n",
              "      <td>2129.000000</td>\n",
              "      <td>962.500000</td>\n",
              "      <td>619.000000</td>\n",
              "      <td>736.500000</td>\n",
              "      <td>186.500000</td>\n",
              "      <td>1730.000000</td>\n",
              "      <td>2333.500000</td>\n",
              "      <td>499.000000</td>\n",
              "      <td>1235.500000</td>\n",
              "      <td>57.000000</td>\n",
              "      <td>5569.000000</td>\n",
              "      <td>428.50000</td>\n",
              "      <td>63.000000</td>\n",
              "      <td>3.000000</td>\n",
              "      <td>2.000000</td>\n",
              "      <td>0.000000</td>\n",
              "      <td>590.500000</td>\n",
              "      <td>3485.500000</td>\n",
              "      <td>2292.500000</td>\n",
              "      <td>54687.500000</td>\n",
              "      <td>3.000000</td>\n",
              "    </tr>\n",
              "    <tr>\n",
              "      <th>75%</th>\n",
              "      <td>2011.000000</td>\n",
              "      <td>9.000000</td>\n",
              "      <td>579.250000</td>\n",
              "      <td>6.000000</td>\n",
              "      <td>19.000000</td>\n",
              "      <td>94.000000</td>\n",
              "      <td>386.250000</td>\n",
              "      <td>6600.000000</td>\n",
              "      <td>441.250000</td>\n",
              "      <td>238.250000</td>\n",
              "      <td>3741.000000</td>\n",
              "      <td>530.000000</td>\n",
              "      <td>154.000000</td>\n",
              "      <td>2707.000000</td>\n",
              "      <td>386.250000</td>\n",
              "      <td>5302.250000</td>\n",
              "      <td>769.500000</td>\n",
              "      <td>15.000000</td>\n",
              "      <td>5.000000</td>\n",
              "      <td>1196.500000</td>\n",
              "      <td>15.250000</td>\n",
              "      <td>183.250000</td>\n",
              "      <td>17.000000</td>\n",
              "      <td>1562.000000</td>\n",
              "      <td>11351.750000</td>\n",
              "      <td>1837.500000</td>\n",
              "      <td>2361.750000</td>\n",
              "      <td>867.250000</td>\n",
              "      <td>1739.000000</td>\n",
              "      <td>177.250000</td>\n",
              "      <td>7567.000000</td>\n",
              "      <td>13939.500000</td>\n",
              "      <td>1.000000</td>\n",
              "      <td>153.250000</td>\n",
              "      <td>10.250000</td>\n",
              "      <td>2880.500000</td>\n",
              "      <td>1361.750000</td>\n",
              "      <td>793.500000</td>\n",
              "      <td>1039.750000</td>\n",
              "      <td>211.000000</td>\n",
              "      <td>2167.250000</td>\n",
              "      <td>2905.500000</td>\n",
              "      <td>798.250000</td>\n",
              "      <td>1512.000000</td>\n",
              "      <td>79.250000</td>\n",
              "      <td>6352.500000</td>\n",
              "      <td>484.75000</td>\n",
              "      <td>88.000000</td>\n",
              "      <td>4.000000</td>\n",
              "      <td>3.000000</td>\n",
              "      <td>1.000000</td>\n",
              "      <td>652.500000</td>\n",
              "      <td>6638.250000</td>\n",
              "      <td>2707.000000</td>\n",
              "      <td>62934.000000</td>\n",
              "      <td>3.000000</td>\n",
              "    </tr>\n",
              "    <tr>\n",
              "      <th>max</th>\n",
              "      <td>2019.000000</td>\n",
              "      <td>12.000000</td>\n",
              "      <td>831.000000</td>\n",
              "      <td>21.000000</td>\n",
              "      <td>36.000000</td>\n",
              "      <td>194.000000</td>\n",
              "      <td>645.000000</td>\n",
              "      <td>9050.000000</td>\n",
              "      <td>561.000000</td>\n",
              "      <td>449.000000</td>\n",
              "      <td>6653.000000</td>\n",
              "      <td>914.000000</td>\n",
              "      <td>300.000000</td>\n",
              "      <td>5358.000000</td>\n",
              "      <td>1329.000000</td>\n",
              "      <td>8957.000000</td>\n",
              "      <td>1625.000000</td>\n",
              "      <td>54.000000</td>\n",
              "      <td>12.000000</td>\n",
              "      <td>2626.000000</td>\n",
              "      <td>37.000000</td>\n",
              "      <td>283.000000</td>\n",
              "      <td>24.000000</td>\n",
              "      <td>2976.000000</td>\n",
              "      <td>21040.000000</td>\n",
              "      <td>2630.000000</td>\n",
              "      <td>5368.000000</td>\n",
              "      <td>1036.000000</td>\n",
              "      <td>2215.000000</td>\n",
              "      <td>230.000000</td>\n",
              "      <td>9880.000000</td>\n",
              "      <td>18003.000000</td>\n",
              "      <td>5.000000</td>\n",
              "      <td>271.000000</td>\n",
              "      <td>31.000000</td>\n",
              "      <td>3627.000000</td>\n",
              "      <td>2543.000000</td>\n",
              "      <td>1160.000000</td>\n",
              "      <td>1282.000000</td>\n",
              "      <td>289.000000</td>\n",
              "      <td>3695.000000</td>\n",
              "      <td>3425.000000</td>\n",
              "      <td>1114.000000</td>\n",
              "      <td>2314.000000</td>\n",
              "      <td>350.000000</td>\n",
              "      <td>9034.000000</td>\n",
              "      <td>628.00000</td>\n",
              "      <td>217.000000</td>\n",
              "      <td>13.000000</td>\n",
              "      <td>10.000000</td>\n",
              "      <td>3.000000</td>\n",
              "      <td>848.000000</td>\n",
              "      <td>12430.000000</td>\n",
              "      <td>5358.000000</td>\n",
              "      <td>75403.000000</td>\n",
              "      <td>3.000000</td>\n",
              "    </tr>\n",
              "  </tbody>\n",
              "</table>\n",
              "</div>"
            ],
            "text/plain": [
              "              vano         mes  ...  registro_ocorrencias        fase\n",
              "count   332.000000  332.000000  ...            236.000000  332.000000\n",
              "mean   2004.397590    6.451807  ...          53348.919492    2.993976\n",
              "std       8.101978    3.447592  ...          10864.277909    0.077498\n",
              "min    1991.000000    1.000000  ...          30621.000000    2.000000\n",
              "25%    1997.000000    3.000000  ...          45168.500000    3.000000\n",
              "50%    2004.000000    6.000000  ...          54687.500000    3.000000\n",
              "75%    2011.000000    9.000000  ...          62934.000000    3.000000\n",
              "max    2019.000000   12.000000  ...          75403.000000    3.000000\n",
              "\n",
              "[8 rows x 56 columns]"
            ]
          },
          "metadata": {
            "tags": []
          },
          "execution_count": 40
        }
      ]
    },
    {
      "cell_type": "code",
      "metadata": {
        "id": "iHqtSDSar3sm",
        "colab_type": "code",
        "outputId": "c18394a9-2c44-4e0e-b22e-2d3bd03c9612",
        "colab": {
          "base_uri": "https://localhost:8080/",
          "height": 986
        }
      },
      "source": [
        "df_clean.mean().sort_values(ascending = False)"
      ],
      "execution_count": 41,
      "outputs": [
        {
          "output_type": "execute_result",
          "data": {
            "text/plain": [
              "registro_ocorrencias          53348.919492\n",
              "total_furtos                  10372.659639\n",
              "total_roubos                   9074.807229\n",
              "outros_furtos                  5953.981928\n",
              "ameaca                         5595.279661\n",
              "lesao_corp_dolosa              5508.939759\n",
              "indicador_roubo_rua            4527.421687\n",
              "lesao_corp_culposa             3470.326271\n",
              "roubo_transeunte               3283.066265\n",
              "roubo_veiculo                  2373.451807\n",
              "indicador_roubo_veic           2373.451807\n",
              "apf                            2283.269737\n",
              "estelionato                    2217.553191\n",
              "vano                           2004.397590\n",
              "recuperacao_veiculos           1722.951807\n",
              "furto_veiculos                 1687.888554\n",
              "furto_transeunte               1516.102410\n",
              "furto_celular                  1458.553191\n",
              "cmp                            1243.447368\n",
              "outros_roubos                  1161.647590\n",
              "apreensao_drogas               1046.481928\n",
              "roubo_celular                   900.455357\n",
              "trafico_drogas                  738.993421\n",
              "furto_coletivo                  651.622340\n",
              "roubo_em_coletivo               636.819277\n",
              "posse_drogas                    607.453947\n",
              "indicador_letalidade            578.243976\n",
              "aaapai                          563.881579\n",
              "hom_doloso                      506.689759\n",
              "roubo_comercio                  451.572289\n",
              "pessoas_desaparecidas           438.085000\n",
              "estupro                         367.218085\n",
              "roubo_carga                     320.698795\n",
              "tentat_hom                      311.695783\n",
              "hom_culposo                     213.866935\n",
              "apreensao_drogas_sem_autor      187.875000\n",
              "roubo_apos_saque                151.292553\n",
              "roubo_residencia                134.313253\n",
              "extorsao                        134.021277\n",
              "furto_bicicleta                 117.196429\n",
              "cmba                             78.631579\n",
              "hom_por_interv_policial          70.834677\n",
              "encontro_cadaver                 67.521084\n",
              "latrocinio                       15.521084\n",
              "roubo_conducao_saque             11.744681\n",
              "roubo_bicicleta                  10.517857\n",
              "roubo_banco                       9.647590\n",
              "sequestro_relampago               7.659574\n",
              "mes                               6.451807\n",
              "lesao_corp_morte                  4.389831\n",
              "roubo_cx_eletronico               3.457447\n",
              "encontro_ossada                   3.375000\n",
              "fase                              2.993976\n",
              "pol_militares_mortos_serv         2.053191\n",
              "sequestro                         0.665254\n",
              "pol_civis_mortos_serv             0.340426\n",
              "dtype: float64"
            ]
          },
          "metadata": {
            "tags": []
          },
          "execution_count": 41
        }
      ]
    },
    {
      "cell_type": "markdown",
      "metadata": {
        "id": "TTaJnytNtOIQ",
        "colab_type": "text"
      },
      "source": [
        "## Crimes com maior média mensal\n",
        "Verifica-se que possuem média alta (acima de 3000 registros/mês) o total de furtos, total de roubos, crimes de ameaça, lesão corporal dolosa, lesão corporal culposa. Tais crimes apresentam a maior média mensal de quantidade de ocorrências nas duas últimas décadas. "
      ]
    },
    {
      "cell_type": "code",
      "metadata": {
        "id": "WFie8Ra1veYI",
        "colab_type": "code",
        "outputId": "b9ffcf5d-f5d2-4e3c-ee58-29c2b8dfe3ad",
        "colab": {
          "base_uri": "https://localhost:8080/",
          "height": 428
        }
      },
      "source": [
        "# Média de Total de Furtos (1991 a 2019) separadas por mês: (mes 1 = janeiro; mes 12 = dezembro) \n",
        "media_furtos = df_clean.groupby(['mes']).total_furtos.mean()\n",
        "print(media_furtos)\n",
        "media_furtos.plot.bar(figsize=(4,2))"
      ],
      "execution_count": 42,
      "outputs": [
        {
          "output_type": "stream",
          "text": [
            "mes\n",
            "1     10899.964286\n",
            "2     10781.928571\n",
            "3     10942.892857\n",
            "4     10098.892857\n",
            "5     10482.964286\n",
            "6      9948.214286\n",
            "7     10269.107143\n",
            "8     10355.607143\n",
            "9      9935.148148\n",
            "10    10268.333333\n",
            "11     9989.111111\n",
            "12    10470.185185\n",
            "Name: total_furtos, dtype: float64\n"
          ],
          "name": "stdout"
        },
        {
          "output_type": "execute_result",
          "data": {
            "text/plain": [
              "<matplotlib.axes._subplots.AxesSubplot at 0x7f14b7cc25c0>"
            ]
          },
          "metadata": {
            "tags": []
          },
          "execution_count": 42
        },
        {
          "output_type": "display_data",
          "data": {
            "image/png": "[encoded data removed]",
            "text/plain": [
              "<Figure size 288x144 with 1 Axes>"
            ]
          },
          "metadata": {
            "tags": [],
            "needs_background": "light"
          }
        }
      ]
    },
    {
      "cell_type": "markdown",
      "metadata": {
        "id": "BCCBZR9Awv1Q",
        "colab_type": "text"
      },
      "source": [
        "**Como podemos visualizar, o mês com média ligeiramente mais alta de furtos totais foi o mês de Março. Ao todo, a quantidade de furtos foi semelhante em todos os períodos do ano.**"
      ]
    },
    {
      "cell_type": "code",
      "metadata": {
        "id": "PaHH94Xzw54y",
        "colab_type": "code",
        "outputId": "05d60a0f-11f9-4b27-ea7f-7e3840913d68",
        "colab": {
          "base_uri": "https://localhost:8080/",
          "height": 430
        }
      },
      "source": [
        "# Média de Total de Roubos (1991 a 2019) separadas por mês: (mes 1 = janeiro; mes 12 = dezembro) \n",
        "media_roubos = df_clean.groupby(['mes']).total_roubos.mean()\n",
        "print(media_roubos)\n",
        "media_roubos.plot.bar(figsize=(4,2))"
      ],
      "execution_count": 43,
      "outputs": [
        {
          "output_type": "stream",
          "text": [
            "mes\n",
            "1     9130.357143\n",
            "2     8924.500000\n",
            "3     9708.607143\n",
            "4     9425.964286\n",
            "5     9597.571429\n",
            "6     8897.000000\n",
            "7     8933.178571\n",
            "8     8991.178571\n",
            "9     8534.111111\n",
            "10    9021.592593\n",
            "11    8790.851852\n",
            "12    8905.370370\n",
            "Name: total_roubos, dtype: float64\n"
          ],
          "name": "stdout"
        },
        {
          "output_type": "execute_result",
          "data": {
            "text/plain": [
              "<matplotlib.axes._subplots.AxesSubplot at 0x7f14b7e27278>"
            ]
          },
          "metadata": {
            "tags": []
          },
          "execution_count": 43
        },
        {
          "output_type": "display_data",
          "data": {
            "image/png": "[encoded data removed]",
            "text/plain": [
              "<Figure size 288x144 with 1 Axes>"
            ]
          },
          "metadata": {
            "tags": [],
            "needs_background": "light"
          }
        }
      ]
    },
    {
      "cell_type": "markdown",
      "metadata": {
        "id": "10-ohNL9xMaY",
        "colab_type": "text"
      },
      "source": [
        "**Os meses com média mais alta de roubos foram respectivamente: Maio e Março. Podemos observar no gráfico que houve uma maior concentração de roubos entre Março e Maio.**"
      ]
    },
    {
      "cell_type": "code",
      "metadata": {
        "id": "GUyuz7Q7xXdO",
        "colab_type": "code",
        "outputId": "20c7874e-946b-48fe-f202-b43b99abe4b5",
        "colab": {
          "base_uri": "https://localhost:8080/",
          "height": 428
        }
      },
      "source": [
        "# Média de Crimes de Ameaça (1991 a 2019) separadas por mês: (mes 1 = janeiro; mes 12 = dezembro) \n",
        "media_ameaca = df_clean.groupby(['mes']).ameaca.mean()\n",
        "print(media_ameaca)\n",
        "media_ameaca.plot.bar(figsize=(4,2))"
      ],
      "execution_count": 44,
      "outputs": [
        {
          "output_type": "stream",
          "text": [
            "mes\n",
            "1     5926.400000\n",
            "2     5516.350000\n",
            "3     5997.950000\n",
            "4     5608.150000\n",
            "5     5405.550000\n",
            "6     5218.800000\n",
            "7     5220.900000\n",
            "8     5516.650000\n",
            "9     5552.368421\n",
            "10    5859.736842\n",
            "11    5600.789474\n",
            "12    5738.210526\n",
            "Name: ameaca, dtype: float64\n"
          ],
          "name": "stdout"
        },
        {
          "output_type": "execute_result",
          "data": {
            "text/plain": [
              "<matplotlib.axes._subplots.AxesSubplot at 0x7f14b89894e0>"
            ]
          },
          "metadata": {
            "tags": []
          },
          "execution_count": 44
        },
        {
          "output_type": "display_data",
          "data": {
            "image/png": "[encoded data removed]",
            "text/plain": [
              "<Figure size 288x144 with 1 Axes>"
            ]
          },
          "metadata": {
            "tags": [],
            "needs_background": "light"
          }
        }
      ]
    },
    {
      "cell_type": "markdown",
      "metadata": {
        "id": "xNIuN6E8ybr_",
        "colab_type": "text"
      },
      "source": [
        "**Os meses com média ligeiramente mais alta de crimes de ameaça foram respectivamente: Março, Janeiro e Outubro.**"
      ]
    },
    {
      "cell_type": "code",
      "metadata": {
        "id": "L8pUlOpGyuWa",
        "colab_type": "code",
        "outputId": "cdd25d38-38fe-47a8-a408-55853ef803ae",
        "colab": {
          "base_uri": "https://localhost:8080/",
          "height": 428
        }
      },
      "source": [
        "# Média de Total de Lesão Corporal Dolosa (1991 a 2019) separadas por mês: (mes 1 = janeiro; mes 12 = dezembro) \n",
        "media_lesao_corp_dolosa = df_clean.groupby(['mes']).lesao_corp_dolosa.mean()\n",
        "print(media_lesao_corp_dolosa)\n",
        "media_lesao_corp_dolosa.plot.bar(figsize=(4,2))"
      ],
      "execution_count": 45,
      "outputs": [
        {
          "output_type": "stream",
          "text": [
            "mes\n",
            "1     5916.607143\n",
            "2     5732.750000\n",
            "3     5868.464286\n",
            "4     5482.714286\n",
            "5     5132.285714\n",
            "6     5034.607143\n",
            "7     4996.321429\n",
            "8     5222.928571\n",
            "9     5303.444444\n",
            "10    5738.962963\n",
            "11    5556.037037\n",
            "12    6147.518519\n",
            "Name: lesao_corp_dolosa, dtype: float64\n"
          ],
          "name": "stdout"
        },
        {
          "output_type": "execute_result",
          "data": {
            "text/plain": [
              "<matplotlib.axes._subplots.AxesSubplot at 0x7f14b7b8cf98>"
            ]
          },
          "metadata": {
            "tags": []
          },
          "execution_count": 45
        },
        {
          "output_type": "display_data",
          "data": {
            "image/png": "[encoded data removed]",
            "text/plain": [
              "<Figure size 288x144 with 1 Axes>"
            ]
          },
          "metadata": {
            "tags": [],
            "needs_background": "light"
          }
        }
      ]
    },
    {
      "cell_type": "markdown",
      "metadata": {
        "id": "puU6HJ8VzZDU",
        "colab_type": "text"
      },
      "source": [
        "**Os meses com média mais alta de lesão corporal dolosa foram respectivamente: Dezembro, Janeiro e Março. Nota-se uma leve redução das médias de ameaça na metade do ano.**"
      ]
    },
    {
      "cell_type": "code",
      "metadata": {
        "id": "QYLi0Bb_0l7S",
        "colab_type": "code",
        "colab": {
          "base_uri": "https://localhost:8080/",
          "height": 428
        },
        "outputId": "f9d5861b-ef7d-4fe8-eb7d-1903f4c007f4"
      },
      "source": [
        "# Média de Total de Lesão Corporal Culposa (1991 a 2019) separadas por mês: (mes 1 = janeiro; mes 12 = dezembro) \n",
        "media_lesao_corp_culposa = df_clean.groupby(['mes']).lesao_corp_culposa.mean()\n",
        "print(media_lesao_corp_culposa)\n",
        "media_lesao_corp_culposa.plot.bar(figsize=(4,2))"
      ],
      "execution_count": 46,
      "outputs": [
        {
          "output_type": "stream",
          "text": [
            "mes\n",
            "1     3379.050000\n",
            "2     3186.100000\n",
            "3     3434.050000\n",
            "4     3367.500000\n",
            "5     3468.700000\n",
            "6     3371.850000\n",
            "7     3411.600000\n",
            "8     3541.250000\n",
            "9     3587.052632\n",
            "10    3700.210526\n",
            "11    3439.052632\n",
            "12    3789.210526\n",
            "Name: lesao_corp_culposa, dtype: float64\n"
          ],
          "name": "stdout"
        },
        {
          "output_type": "execute_result",
          "data": {
            "text/plain": [
              "<matplotlib.axes._subplots.AxesSubplot at 0x7f14b7afbdd8>"
            ]
          },
          "metadata": {
            "tags": []
          },
          "execution_count": 46
        },
        {
          "output_type": "display_data",
          "data": {
            "image/png": "[encoded data removed]",
            "text/plain": [
              "<Figure size 288x144 with 1 Axes>"
            ]
          },
          "metadata": {
            "tags": [],
            "needs_background": "light"
          }
        }
      ]
    },
    {
      "cell_type": "markdown",
      "metadata": {
        "id": "socCi2530weh",
        "colab_type": "text"
      },
      "source": [
        "**Os meses com média mais alta de lesão corporal culposa foram respectivamente: Dezembro, Outubro e Setembro. Neste crime, observa-se que a variação das médias entre os meses é menor, com valores semelhantes, menor discrepância.**"
      ]
    },
    {
      "cell_type": "markdown",
      "metadata": {
        "id": "LCsiXvM3BcsO",
        "colab_type": "text"
      },
      "source": [
        "## Conclusão\n",
        "\n",
        "Verifica-se que possuem média alta (acima de 3000 registros/mês) o total de furtos, total de roubos, crimes de ameaça, lesão corporal dolosa, lesão corporal culposa. Tais crimes apresentam a maior média mensal de quantidade de ocorrências nas duas últimas décadas. \n",
        "\n",
        "Desde 1991 até 2019, foram calculadas as médias destes crimes mais recorrentes, agrupando por mês. Ou seja, uma análise de cada mês do ano. O ano de 2017 foi retirado da análise devido à greve policial que comprometeu os registros de alguns meses. Verifica-se que a quantidade de registros é ligeiramente maior no mês de Março comparado aos outros meses. No entanto, a proporção de registros manteve-se constante ao longo do ano."
      ]
    }
  ]
}